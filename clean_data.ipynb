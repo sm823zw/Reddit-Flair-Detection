{
 "cells": [
  {
   "cell_type": "code",
   "execution_count": 264,
   "metadata": {},
   "outputs": [],
   "source": [
    "import math\n",
    "import numpy as np\n",
    "import pandas as pd\n",
    "import re"
   ]
  },
  {
   "cell_type": "code",
   "execution_count": 449,
   "metadata": {},
   "outputs": [],
   "source": [
    "pd.set_option('display.max_colwidth', None)"
   ]
  },
  {
   "cell_type": "code",
   "execution_count": 450,
   "metadata": {},
   "outputs": [],
   "source": [
    "col_names = ['title', 'self_text', 'flair']\n",
    "df = pd.read_csv('data/reddit_data.csv', low_memory=False, usecols=col_names)"
   ]
  },
  {
   "cell_type": "code",
   "execution_count": 451,
   "metadata": {},
   "outputs": [
    {
     "data": {
      "text/html": [
       "<div>\n",
       "<style scoped>\n",
       "    .dataframe tbody tr th:only-of-type {\n",
       "        vertical-align: middle;\n",
       "    }\n",
       "\n",
       "    .dataframe tbody tr th {\n",
       "        vertical-align: top;\n",
       "    }\n",
       "\n",
       "    .dataframe thead th {\n",
       "        text-align: right;\n",
       "    }\n",
       "</style>\n",
       "<table border=\"1\" class=\"dataframe\">\n",
       "  <thead>\n",
       "    <tr style=\"text-align: right;\">\n",
       "      <th></th>\n",
       "      <th>title</th>\n",
       "      <th>flair</th>\n",
       "      <th>self_text</th>\n",
       "    </tr>\n",
       "  </thead>\n",
       "  <tbody>\n",
       "    <tr>\n",
       "      <th>0</th>\n",
       "      <td>Got my hands on the new PS5</td>\n",
       "      <td>Non Political</td>\n",
       "      <td>NaN</td>\n",
       "    </tr>\n",
       "    <tr>\n",
       "      <th>1</th>\n",
       "      <td>All these things were making Chanbeli Begum sad. Sometimes she was also a green jasmine bull. Children used to come to play in the garden. A girl sometimes gave water to Chanbeli Begum.</td>\n",
       "      <td>AskIndia</td>\n",
       "      <td>NaN</td>\n",
       "    </tr>\n",
       "    <tr>\n",
       "      <th>2</th>\n",
       "      <td>Can people not pee LITERALLY in front of others?</td>\n",
       "      <td>Crime</td>\n",
       "      <td>\\nSo today me and my sister went for a walk in the park near my house, and the park is adjacent to a service lane. As we both were walking in the front direction, we saw a man through the fence of the park (the fence has huge gaps in it so the guy was easily visible) unzip his pants and LITERALLY PEE IN FRONT OF US, his penis was visible. The guy was giving us an eerie look and literally staring at us WHILE peeing, as if he's about to devour us. This truly was a shocking experience for us both, Delhi truly is unsafe for women.</td>\n",
       "    </tr>\n",
       "    <tr>\n",
       "      <th>3</th>\n",
       "      <td>I need a huge favour of 149 INR to buy instamojo notes as I can't pay from Nepal.</td>\n",
       "      <td>AskIndia</td>\n",
       "      <td>My exam is within a week. I am yet to find good books. I went to every books shops. Got nth. Browsed the whole libgen got nth. What I want is solved numericals so that I can prepare for my exams as theory aren't asked at all in our exams it is only numericals and numericals.\\n\\nFinally got this-:https://ojasdeshpande.myinstamojo.com/product/2915302/artificial-intelligence-soft-computing-notes/\\n\\nbut sad thing turns out I can't pay using visa credit card :(.\\n\\nI have noone that I know in india :( Sadly. If you have someone in Nepal I can pay you this money in esewa or some thing like that.\\n\\nThis note might help me pass this exam. So please consider helping me. Help me only if you are rich enough to spare 149 INR, don't do it at the cost of anything else. Rotibeti ka rishta hai!</td>\n",
       "    </tr>\n",
       "    <tr>\n",
       "      <th>4</th>\n",
       "      <td>UK Sikhs push back against anti-India forces, pass resolution thanking PM Modi | Hindustan Times</td>\n",
       "      <td>Politics</td>\n",
       "      <td>NaN</td>\n",
       "    </tr>\n",
       "    <tr>\n",
       "      <th>...</th>\n",
       "      <td>...</td>\n",
       "      <td>...</td>\n",
       "      <td>...</td>\n",
       "    </tr>\n",
       "    <tr>\n",
       "      <th>213743</th>\n",
       "      <td>'People's court' should decide on euthanasia and 'living will', says SC. The government is examining a report by the Law Commission on the subject and may table a Bill in Parliament legalising passive euthanasia.</td>\n",
       "      <td>Policy</td>\n",
       "      <td>NaN</td>\n",
       "    </tr>\n",
       "    <tr>\n",
       "      <th>213744</th>\n",
       "      <td>Free Speech : JNU Vs Kamlesh Tiwari</td>\n",
       "      <td>Removed: Reason Given to OP</td>\n",
       "      <td>[deleted]</td>\n",
       "    </tr>\n",
       "    <tr>\n",
       "      <th>213745</th>\n",
       "      <td>Tifu by sending \" Kiss\" and \" i love you\" sticker on hike to my best friend's girlfriend</td>\n",
       "      <td>Non-Political</td>\n",
       "      <td>[deleted]</td>\n",
       "    </tr>\n",
       "    <tr>\n",
       "      <th>213746</th>\n",
       "      <td>Bad debt and good times: How Vijay Mallya gamed the banking system</td>\n",
       "      <td>Non-Political</td>\n",
       "      <td>NaN</td>\n",
       "    </tr>\n",
       "    <tr>\n",
       "      <th>213747</th>\n",
       "      <td>Apparently someone filed a RTI to prove that \"The Country Without a Post Office\" is a lie</td>\n",
       "      <td>Non-Political</td>\n",
       "      <td>His tweet, now deleted had questions like postal department coverage, number of post office etc, see the [image he posted here.] (http://imgur.com/CdBDiCq)\\n\\n[His reaction after someone pointed out the error.] (http://imgur.com/a/KPuhS)\\n\\nThe irony is he wrote: \"How to brain wash Gullible Students? How to spin free speech into Lies?Marxist  Example.\" with the image he posted but instead proving himself to be the gullible one.\\n\\nEinstein was right \"Two things are infinite, as far as we know – the universe and human stupidity\"\\n\\nOn internet we see all kind of stupid but this was a special kind of stupid.</td>\n",
       "    </tr>\n",
       "  </tbody>\n",
       "</table>\n",
       "<p>213748 rows × 3 columns</p>\n",
       "</div>"
      ],
      "text/plain": [
       "                                                                                                                                                                                                                       title  \\\n",
       "0                                                                                                                                                                                                Got my hands on the new PS5   \n",
       "1                                  All these things were making Chanbeli Begum sad. Sometimes she was also a green jasmine bull. Children used to come to play in the garden. A girl sometimes gave water to Chanbeli Begum.   \n",
       "2                                                                                                                                                                           Can people not pee LITERALLY in front of others?   \n",
       "3                                                                                                                                          I need a huge favour of 149 INR to buy instamojo notes as I can't pay from Nepal.   \n",
       "4                                                                                                                           UK Sikhs push back against anti-India forces, pass resolution thanking PM Modi | Hindustan Times   \n",
       "...                                                                                                                                                                                                                      ...   \n",
       "213743  'People's court' should decide on euthanasia and 'living will', says SC. The government is examining a report by the Law Commission on the subject and may table a Bill in Parliament legalising passive euthanasia.   \n",
       "213744                                                                                                                                                                                   Free Speech : JNU Vs Kamlesh Tiwari   \n",
       "213745                                                                                                                              Tifu by sending \" Kiss\" and \" i love you\" sticker on hike to my best friend's girlfriend   \n",
       "213746                                                                                                                                                    Bad debt and good times: How Vijay Mallya gamed the banking system   \n",
       "213747                                                                                                                             Apparently someone filed a RTI to prove that \"The Country Without a Post Office\" is a lie   \n",
       "\n",
       "                              flair  \\\n",
       "0                     Non Political   \n",
       "1                          AskIndia   \n",
       "2                             Crime   \n",
       "3                          AskIndia   \n",
       "4                          Politics   \n",
       "...                             ...   \n",
       "213743                       Policy   \n",
       "213744  Removed: Reason Given to OP   \n",
       "213745                Non-Political   \n",
       "213746                Non-Political   \n",
       "213747                Non-Political   \n",
       "\n",
       "                                                                                                                                                                                                                                                                                                                                                                                                                                                                                                                                                                                                                                                                                                                                                                                                                      self_text  \n",
       "0                                                                                                                                                                                                                                                                                                                                                                                                                                                                                                                                                                                                                                                                                                                                                                                                                           NaN  \n",
       "1                                                                                                                                                                                                                                                                                                                                                                                                                                                                                                                                                                                                                                                                                                                                                                                                                           NaN  \n",
       "2                                                                                                                                                                                                                                                                          \\nSo today me and my sister went for a walk in the park near my house, and the park is adjacent to a service lane. As we both were walking in the front direction, we saw a man through the fence of the park (the fence has huge gaps in it so the guy was easily visible) unzip his pants and LITERALLY PEE IN FRONT OF US, his penis was visible. The guy was giving us an eerie look and literally staring at us WHILE peeing, as if he's about to devour us. This truly was a shocking experience for us both, Delhi truly is unsafe for women.  \n",
       "3       My exam is within a week. I am yet to find good books. I went to every books shops. Got nth. Browsed the whole libgen got nth. What I want is solved numericals so that I can prepare for my exams as theory aren't asked at all in our exams it is only numericals and numericals.\\n\\nFinally got this-:https://ojasdeshpande.myinstamojo.com/product/2915302/artificial-intelligence-soft-computing-notes/\\n\\nbut sad thing turns out I can't pay using visa credit card :(.\\n\\nI have noone that I know in india :( Sadly. If you have someone in Nepal I can pay you this money in esewa or some thing like that.\\n\\nThis note might help me pass this exam. So please consider helping me. Help me only if you are rich enough to spare 149 INR, don't do it at the cost of anything else. Rotibeti ka rishta hai!  \n",
       "4                                                                                                                                                                                                                                                                                                                                                                                                                                                                                                                                                                                                                                                                                                                                                                                                                           NaN  \n",
       "...                                                                                                                                                                                                                                                                                                                                                                                                                                                                                                                                                                                                                                                                                                                                                                                                                         ...  \n",
       "213743                                                                                                                                                                                                                                                                                                                                                                                                                                                                                                                                                                                                                                                                                                                                                                                                                      NaN  \n",
       "213744                                                                                                                                                                                                                                                                                                                                                                                                                                                                                                                                                                                                                                                                                                                                                                                                                [deleted]  \n",
       "213745                                                                                                                                                                                                                                                                                                                                                                                                                                                                                                                                                                                                                                                                                                                                                                                                                [deleted]  \n",
       "213746                                                                                                                                                                                                                                                                                                                                                                                                                                                                                                                                                                                                                                                                                                                                                                                                                      NaN  \n",
       "213747                                                                                                                                                                                   His tweet, now deleted had questions like postal department coverage, number of post office etc, see the [image he posted here.] (http://imgur.com/CdBDiCq)\\n\\n[His reaction after someone pointed out the error.] (http://imgur.com/a/KPuhS)\\n\\nThe irony is he wrote: \"How to brain wash Gullible Students? How to spin free speech into Lies?Marxist  Example.\" with the image he posted but instead proving himself to be the gullible one.\\n\\nEinstein was right \"Two things are infinite, as far as we know – the universe and human stupidity\"\\n\\nOn internet we see all kind of stupid but this was a special kind of stupid.   \n",
       "\n",
       "[213748 rows x 3 columns]"
      ]
     },
     "execution_count": 451,
     "metadata": {},
     "output_type": "execute_result"
    }
   ],
   "source": [
    "df"
   ]
  },
  {
   "cell_type": "code",
   "execution_count": 452,
   "metadata": {},
   "outputs": [
    {
     "name": "stdout",
     "output_type": "stream",
     "text": [
      "<class 'pandas.core.frame.DataFrame'>\n",
      "RangeIndex: 213748 entries, 0 to 213747\n",
      "Data columns (total 3 columns):\n",
      " #   Column     Non-Null Count   Dtype \n",
      "---  ------     --------------   ----- \n",
      " 0   title      213747 non-null  object\n",
      " 1   flair      180836 non-null  object\n",
      " 2   self_text  57408 non-null   object\n",
      "dtypes: object(3)\n",
      "memory usage: 4.9+ MB\n"
     ]
    }
   ],
   "source": [
    "df.info()"
   ]
  },
  {
   "cell_type": "code",
   "execution_count": 453,
   "metadata": {},
   "outputs": [
    {
     "data": {
      "text/plain": [
       "NaN                                                                                                                                                                                                                                                                                                                                                                                                                                                                                                                                                                                                                                                                                                                                                                                                                                                                                                                                                                                                                                                                                                                                                                                                                                                                                                                                                                                                                                                                                                                                                                                                                                                                                                                                                                                                                                                                                                                                               156340\n",
       "[removed]                                                                                                                                                                                                                                                                                                                                                                                                                                                                                                                                                                                                                                                                                                                                                                                                                                                                                                                                                                                                                                                                                                                                                                                                                                                                                                                                                                                                                                                                                                                                                                                                                                                                                                                                                                                                                                                                                                                                          14988\n",
       "[deleted]                                                                                                                                                                                                                                                                                                                                                                                                                                                                                                                                                                                                                                                                                                                                                                                                                                                                                                                                                                                                                                                                                                                                                                                                                                                                                                                                                                                                                                                                                                                                                                                                                                                                                                                                                                                                                                                                                                                                           3842\n",
       "^Beep ^Boop ^Bot, ^I ^am ^a ^bot! ^if ^any ^problem ^askaway ^my ^creator                                                                                                                                                                                                                                                                                                                                                                                                                                                                                                                                                                                                                                                                                                                                                                                                                                                                                                                                                                                                                                                                                                                                                                                                                                                                                                                                                                                                                                                                                                                                                                                                                                                                                                                                                                                                                                                                            270\n",
       "Anything that you want to get off your chest be it heartbreak, abuse, depression, sorrow, career or education related, behavioural changes etc. Share it here.\\n\\nYou may find someone who went through a similar episode and will be able to help/guide you.\\n\\nPlease be civil and maintain reddiquette while participating or replying/helping out someone. Here's an article on [What should I do if I see someone who is talking about suicide or self-harm on the site?](https://www.reddithelp.com/en/categories/rules-reporting/account-and-community-restrictions/what-should-i-do-if-i-see-someone-who)\\n\\nAlso please join our [Discord](https://discord.gg/6V29X7f) server to discuss on this, we have a separate channel #mental-health exclusively for this topic.\\n\\n[Previous threads.](https://www.reddit.com/r/india/search/?q=Weekly%20mental%20health%20support%20thread&amp;restrict_sr=1&amp;sort=new)                                                                                                                                                                                                                                                                                                                                                                                                                                                                                                                                                                                                                                                                                                                                                                                                                                                                                                                                                                                                                          18\n",
       "                                                                                                                                                                                                                                                                                                                                                                                                                                                                                                                                                                                                                                                                                                                                                                                                                                                                                                                                                                                                                                                                                                                                                                                                                                                                                                                                                                                                                                                                                                                                                                                                                                                                                                                                                                                                                                                                                                                                                   ...  \n",
       "When I was growing up in Pune, I used to get Dabeli Pav from this vendor near my home! Amazing stuff. Haven't had it for 7 years now.                                                                                                                                                                                                                                                                                                                                                                                                                                                                                                                                                                                                                                                                                                                                                                                                                                                                                                                                                                                                                                                                                                                                                                                                                                                                                                                                                                                                                                                                                                                                                                                                                                                                                                                                                                                                                  1\n",
       "India is home to many stray animals (By stray I mean animals who have never been adopted ever before ) and this cat is one of them. While it is true that one cannot help each and every animal in need but even if they could do little it would be much.(My english can be a bit broken so bear with me )\\n\\n![img](7r2alfpgebk21)\\n\\n![img](84xcf4gjebk21)\\n\\n![img](c1n7yq31ebk21)\\n\\nSo here is a cat who used to eat daily from dustbins and other place wherever she could find food , she used to drop the dustbin of my home at night and used to search for food and eat whatever she gets . But , one day I saw the cat and offered her some food she ate that fast and so I gave her some more. Since that day she has started showing up daily at my door  so I bought a small packet of dry cat food from a local pet store but my dilemma is that I am a student and it wont be possible for me to buy cat food everytime and for the same reason I cannot adopt her. Also I didn't find any cat shelters in my city. This cat waits daily before I come home from my coaching and meows many time when she sees me , also after I give her the food then also she meows for an extended period of time which really makes my heart melt and I feel really sad for this cat. From the looks of it she is not injured in any way. But since I won't be able to support this cat everytime I am not sure what should I do , should I stop feeding this cat I am not sure. But I am really worried for this cat.\\n\\n&amp;#x200B;\\n\\n&amp;#x200B;\\n\\nI thought maybe I should raise some dnuf (read is reverse order , my previous post was removed for usnig fund word) for cat but I don't know how to do that , also I am not sure if anyone would really be interested in donating.\\n\\n![video](g4c74s0ocbk21)\\n\\n![video](g7t3d72ocbk21)\\n\\nPlease suggest something what should I do.\\n\\nYou can message me for suggestions.         1\n",
       "We are just keyboard warriors (myself included) who share pics and open letters and vent our frustration on websites without actually making any difference , just to satisfy our ego and give ourselves a false hope that we made a difference.\\n\\n20% of our rural population has internet access.\\n\\nEnd Rant.                                                                                                                                                                                                                                                                                                                                                                                                                                                                                                                                                                                                                                                                                                                                                                                                                                                                                                                                                                                                                                                                                                                                                                                                                                                                                                                                                                                                                                                                                                                                                                                                                                      1\n",
       "Arvind Kejriwal .                                                                                                                                                                                                                                                                                                                                                                                                                                                                                                                                                                                                                                                                                                                                                                                                                                                                                                                                                                                                                                                                                                                                                                                                                                                                                                                                                                                                                                                                                                                                                                                                                                                                                                                                                                                                                                                                                                                                      1\n",
       "Based in Chandigarh now. Basically want to spend some easy, cool time and see the colours of autumn. Any ideas?                                                                                                                                                                                                                                                                                                                                                                                                                                                                                                                                                                                                                                                                                                                                                                                                                                                                                                                                                                                                                                                                                                                                                                                                                                                                                                                                                                                                                                                                                                                                                                                                                                                                                                                                                                                                                                        1\n",
       "Name: self_text, Length: 37914, dtype: int64"
      ]
     },
     "execution_count": 453,
     "metadata": {},
     "output_type": "execute_result"
    }
   ],
   "source": [
    "df['self_text'].value_counts(dropna=False)"
   ]
  },
  {
   "cell_type": "code",
   "execution_count": 454,
   "metadata": {},
   "outputs": [],
   "source": [
    "df['self_text'] = df['self_text'].replace({\"[deleted]\": float(\"nan\"), \"[removed]\": float(\"nan\")})"
   ]
  },
  {
   "cell_type": "code",
   "execution_count": 455,
   "metadata": {},
   "outputs": [
    {
     "name": "stdout",
     "output_type": "stream",
     "text": [
      "<class 'pandas.core.frame.DataFrame'>\n",
      "RangeIndex: 213748 entries, 0 to 213747\n",
      "Data columns (total 3 columns):\n",
      " #   Column     Non-Null Count   Dtype \n",
      "---  ------     --------------   ----- \n",
      " 0   title      213747 non-null  object\n",
      " 1   flair      180836 non-null  object\n",
      " 2   self_text  38578 non-null   object\n",
      "dtypes: object(3)\n",
      "memory usage: 4.9+ MB\n"
     ]
    }
   ],
   "source": [
    "df.info()"
   ]
  },
  {
   "cell_type": "code",
   "execution_count": 456,
   "metadata": {},
   "outputs": [],
   "source": [
    "df['self_text'] = df['self_text'].replace({float(\"nan\"): \" \"})\n",
    "# df['full_text'] = df['title'] + \" \" + df['self_text']\n",
    "# df.drop(columns=['title'], inplace=True)\n",
    "df.drop(columns=['self_text'], inplace=True)"
   ]
  },
  {
   "cell_type": "code",
   "execution_count": 457,
   "metadata": {},
   "outputs": [
    {
     "data": {
      "text/html": [
       "<div>\n",
       "<style scoped>\n",
       "    .dataframe tbody tr th:only-of-type {\n",
       "        vertical-align: middle;\n",
       "    }\n",
       "\n",
       "    .dataframe tbody tr th {\n",
       "        vertical-align: top;\n",
       "    }\n",
       "\n",
       "    .dataframe thead th {\n",
       "        text-align: right;\n",
       "    }\n",
       "</style>\n",
       "<table border=\"1\" class=\"dataframe\">\n",
       "  <thead>\n",
       "    <tr style=\"text-align: right;\">\n",
       "      <th></th>\n",
       "      <th>title</th>\n",
       "      <th>flair</th>\n",
       "    </tr>\n",
       "  </thead>\n",
       "  <tbody>\n",
       "    <tr>\n",
       "      <th>0</th>\n",
       "      <td>Got my hands on the new PS5</td>\n",
       "      <td>Non Political</td>\n",
       "    </tr>\n",
       "    <tr>\n",
       "      <th>1</th>\n",
       "      <td>All these things were making Chanbeli Begum sad. Sometimes she was also a green jasmine bull. Children used to come to play in the garden. A girl sometimes gave water to Chanbeli Begum.</td>\n",
       "      <td>AskIndia</td>\n",
       "    </tr>\n",
       "    <tr>\n",
       "      <th>2</th>\n",
       "      <td>Can people not pee LITERALLY in front of others?</td>\n",
       "      <td>Crime</td>\n",
       "    </tr>\n",
       "    <tr>\n",
       "      <th>3</th>\n",
       "      <td>I need a huge favour of 149 INR to buy instamojo notes as I can't pay from Nepal.</td>\n",
       "      <td>AskIndia</td>\n",
       "    </tr>\n",
       "    <tr>\n",
       "      <th>4</th>\n",
       "      <td>UK Sikhs push back against anti-India forces, pass resolution thanking PM Modi | Hindustan Times</td>\n",
       "      <td>Politics</td>\n",
       "    </tr>\n",
       "    <tr>\n",
       "      <th>...</th>\n",
       "      <td>...</td>\n",
       "      <td>...</td>\n",
       "    </tr>\n",
       "    <tr>\n",
       "      <th>213743</th>\n",
       "      <td>'People's court' should decide on euthanasia and 'living will', says SC. The government is examining a report by the Law Commission on the subject and may table a Bill in Parliament legalising passive euthanasia.</td>\n",
       "      <td>Policy</td>\n",
       "    </tr>\n",
       "    <tr>\n",
       "      <th>213744</th>\n",
       "      <td>Free Speech : JNU Vs Kamlesh Tiwari</td>\n",
       "      <td>Removed: Reason Given to OP</td>\n",
       "    </tr>\n",
       "    <tr>\n",
       "      <th>213745</th>\n",
       "      <td>Tifu by sending \" Kiss\" and \" i love you\" sticker on hike to my best friend's girlfriend</td>\n",
       "      <td>Non-Political</td>\n",
       "    </tr>\n",
       "    <tr>\n",
       "      <th>213746</th>\n",
       "      <td>Bad debt and good times: How Vijay Mallya gamed the banking system</td>\n",
       "      <td>Non-Political</td>\n",
       "    </tr>\n",
       "    <tr>\n",
       "      <th>213747</th>\n",
       "      <td>Apparently someone filed a RTI to prove that \"The Country Without a Post Office\" is a lie</td>\n",
       "      <td>Non-Political</td>\n",
       "    </tr>\n",
       "  </tbody>\n",
       "</table>\n",
       "<p>213748 rows × 2 columns</p>\n",
       "</div>"
      ],
      "text/plain": [
       "                                                                                                                                                                                                                       title  \\\n",
       "0                                                                                                                                                                                                Got my hands on the new PS5   \n",
       "1                                  All these things were making Chanbeli Begum sad. Sometimes she was also a green jasmine bull. Children used to come to play in the garden. A girl sometimes gave water to Chanbeli Begum.   \n",
       "2                                                                                                                                                                           Can people not pee LITERALLY in front of others?   \n",
       "3                                                                                                                                          I need a huge favour of 149 INR to buy instamojo notes as I can't pay from Nepal.   \n",
       "4                                                                                                                           UK Sikhs push back against anti-India forces, pass resolution thanking PM Modi | Hindustan Times   \n",
       "...                                                                                                                                                                                                                      ...   \n",
       "213743  'People's court' should decide on euthanasia and 'living will', says SC. The government is examining a report by the Law Commission on the subject and may table a Bill in Parliament legalising passive euthanasia.   \n",
       "213744                                                                                                                                                                                   Free Speech : JNU Vs Kamlesh Tiwari   \n",
       "213745                                                                                                                              Tifu by sending \" Kiss\" and \" i love you\" sticker on hike to my best friend's girlfriend   \n",
       "213746                                                                                                                                                    Bad debt and good times: How Vijay Mallya gamed the banking system   \n",
       "213747                                                                                                                             Apparently someone filed a RTI to prove that \"The Country Without a Post Office\" is a lie   \n",
       "\n",
       "                              flair  \n",
       "0                     Non Political  \n",
       "1                          AskIndia  \n",
       "2                             Crime  \n",
       "3                          AskIndia  \n",
       "4                          Politics  \n",
       "...                             ...  \n",
       "213743                       Policy  \n",
       "213744  Removed: Reason Given to OP  \n",
       "213745                Non-Political  \n",
       "213746                Non-Political  \n",
       "213747                Non-Political  \n",
       "\n",
       "[213748 rows x 2 columns]"
      ]
     },
     "execution_count": 457,
     "metadata": {},
     "output_type": "execute_result"
    }
   ],
   "source": [
    "df"
   ]
  },
  {
   "cell_type": "code",
   "execution_count": 458,
   "metadata": {},
   "outputs": [
    {
     "name": "stdout",
     "output_type": "stream",
     "text": [
      "<class 'pandas.core.frame.DataFrame'>\n",
      "RangeIndex: 213748 entries, 0 to 213747\n",
      "Data columns (total 2 columns):\n",
      " #   Column  Non-Null Count   Dtype \n",
      "---  ------  --------------   ----- \n",
      " 0   title   213747 non-null  object\n",
      " 1   flair   180836 non-null  object\n",
      "dtypes: object(2)\n",
      "memory usage: 3.3+ MB\n"
     ]
    }
   ],
   "source": [
    "df.info()"
   ]
  },
  {
   "cell_type": "code",
   "execution_count": 459,
   "metadata": {},
   "outputs": [
    {
     "name": "stdout",
     "output_type": "stream",
     "text": [
      "Hey I am Yann, how are you and how is it going ? That is interesting: I would love to hear more about it.\n"
     ]
    }
   ],
   "source": [
    "def decontracted(phrase):\n",
    "    # specific\n",
    "    phrase = re.sub(r\"won\\'t\", \"will not\", phrase)\n",
    "    phrase = re.sub(r\"can\\'t\", \"can not\", phrase)\n",
    "\n",
    "    # general\n",
    "    phrase = re.sub(r\"n\\'t\", \" not\", phrase)\n",
    "    phrase = re.sub(r\"\\'re\", \" are\", phrase)\n",
    "    phrase = re.sub(r\"\\'s\", \" is\", phrase)\n",
    "    phrase = re.sub(r\"\\'d\", \" would\", phrase)\n",
    "    phrase = re.sub(r\"\\'ll\", \" will\", phrase)\n",
    "    phrase = re.sub(r\"\\'t\", \" not\", phrase)\n",
    "    phrase = re.sub(r\"\\'ve\", \" have\", phrase)\n",
    "    phrase = re.sub(r\"\\'m\", \" am\", phrase)\n",
    "    # phrase = phrase.replace(\"i'm\", \"i am\")\n",
    "    return phrase\n",
    "\n",
    "\n",
    "test = \"Hey I'm Yann, how're you and how's it going ? That's interesting: I'd love to hear more about it.\"\n",
    "print(decontracted(test))"
   ]
  },
  {
   "cell_type": "code",
   "execution_count": 460,
   "metadata": {},
   "outputs": [
    {
     "name": "stderr",
     "output_type": "stream",
     "text": [
      "<ipython-input-460-c1bd17a979a9>:2: FutureWarning: The default value of regex will change from True to False in a future version.\n",
      "  text = text.str.replace(\"(<br/>)\", ' ')\n",
      "<ipython-input-460-c1bd17a979a9>:3: FutureWarning: The default value of regex will change from True to False in a future version.\n",
      "  text = text.str.replace('(<a).*(>).*(</a>)', ' ')\n",
      "<ipython-input-460-c1bd17a979a9>:4: FutureWarning: The default value of regex will change from True to False in a future version.\n",
      "  text = text.str.replace('(&amp)', ' ')\n",
      "<ipython-input-460-c1bd17a979a9>:5: FutureWarning: The default value of regex will change from True to False in a future version.\n",
      "  text = text.str.replace('(&gt)', ' ')\n",
      "<ipython-input-460-c1bd17a979a9>:6: FutureWarning: The default value of regex will change from True to False in a future version.\n",
      "  text = text.str.replace('(&lt)', ' ')\n",
      "<ipython-input-460-c1bd17a979a9>:7: FutureWarning: The default value of regex will change from True to False in a future version.\n",
      "  text = text.str.replace('(\\xa0)', ' ')\n"
     ]
    }
   ],
   "source": [
    "def preprocess(text):\n",
    "    text = text.str.replace(\"(<br/>)\", ' ')\n",
    "    text = text.str.replace('(<a).*(>).*(</a>)', ' ')\n",
    "    text = text.str.replace('(&amp)', ' ')\n",
    "    text = text.str.replace('(&gt)', ' ')\n",
    "    text = text.str.replace('(&lt)', ' ')\n",
    "    text = text.str.replace('(\\xa0)', ' ')\n",
    "    text = text.str.replace(\"\\n\", \" \")\n",
    "    return text\n",
    "\n",
    "df['title'] = df['title'].apply(lambda x: decontracted(str(x)))\n",
    "df['title'] = preprocess(df['title'])\n",
    "df['title'] = df['title'].apply(lambda x: re.split('https:\\/\\/.*', str(x))[0])\n",
    "df['title'] = df['title'].apply(lambda x: ' '.join(re.sub(\"(@[A-Za-z0-9]+)|([^0-9A-Za-z \\t])|(\\w+:\\/\\/\\S+)\",\" \", str(x)).split()))\n",
    "\n",
    "# for i in range(df.shape[0]):\n",
    "#     df.iloc[i, 0]=' '.join(re.sub(\"(@[A-Za-z0-9]+)|([^0-9A-Za-z \\t])|(\\w+:\\/\\/\\S+)\",\" \", str(df.iloc[i, 0])).split())\n",
    "# df['full_text'] = preprocess(df['full_text'])\n",
    "# df['full_text'] = df['full_text'].apply(lambda x: re.split('https:\\/\\/.*', str(x))[0])"
   ]
  },
  {
   "cell_type": "code",
   "execution_count": 461,
   "metadata": {},
   "outputs": [],
   "source": [
    "def remove_emoji(string):\n",
    "    emoji_pattern = re.compile(\"[\"\n",
    "                           u\"\\U0001F600-\\U0001F64F\" # emoticons\n",
    "                           u\"\\U0001F300-\\U0001F5FF\" # symbols & pictographs\n",
    "                           u\"\\U0001F680-\\U0001F6FF\" # transport & map symbols\n",
    "                           u\"\\U0001F1E0-\\U0001F1FF\" # flags (iOS)\n",
    "                           u\"\\U00002702-\\U000027B0\"\n",
    "                           u\"\\U000024C2-\\U0001F251\"\n",
    "                           \"]+\", flags=re.UNICODE)\n",
    "    return emoji_pattern.sub(r'', string)\n",
    "\n",
    "df['title'] = df['title'].apply(lambda row : remove_emoji(row))\n",
    "# df['full_text'] = df['full_text'].apply(lambda row : remove_emoji(row))"
   ]
  },
  {
   "cell_type": "code",
   "execution_count": 462,
   "metadata": {},
   "outputs": [
    {
     "data": {
      "text/html": [
       "<div>\n",
       "<style scoped>\n",
       "    .dataframe tbody tr th:only-of-type {\n",
       "        vertical-align: middle;\n",
       "    }\n",
       "\n",
       "    .dataframe tbody tr th {\n",
       "        vertical-align: top;\n",
       "    }\n",
       "\n",
       "    .dataframe thead th {\n",
       "        text-align: right;\n",
       "    }\n",
       "</style>\n",
       "<table border=\"1\" class=\"dataframe\">\n",
       "  <thead>\n",
       "    <tr style=\"text-align: right;\">\n",
       "      <th></th>\n",
       "      <th>title</th>\n",
       "      <th>flair</th>\n",
       "    </tr>\n",
       "  </thead>\n",
       "  <tbody>\n",
       "    <tr>\n",
       "      <th>0</th>\n",
       "      <td>Got my hands on the new PS5</td>\n",
       "      <td>Non Political</td>\n",
       "    </tr>\n",
       "    <tr>\n",
       "      <th>1</th>\n",
       "      <td>All these things were making Chanbeli Begum sad Sometimes she was also a green jasmine bull Children used to come to play in the garden A girl sometimes gave water to Chanbeli Begum</td>\n",
       "      <td>AskIndia</td>\n",
       "    </tr>\n",
       "    <tr>\n",
       "      <th>2</th>\n",
       "      <td>Can people not pee LITERALLY in front of others</td>\n",
       "      <td>Crime</td>\n",
       "    </tr>\n",
       "    <tr>\n",
       "      <th>3</th>\n",
       "      <td>I need a huge favour of 149 INR to buy instamojo notes as I can not pay from Nepal</td>\n",
       "      <td>AskIndia</td>\n",
       "    </tr>\n",
       "    <tr>\n",
       "      <th>4</th>\n",
       "      <td>UK Sikhs push back against anti India forces pass resolution thanking PM Modi Hindustan Times</td>\n",
       "      <td>Politics</td>\n",
       "    </tr>\n",
       "    <tr>\n",
       "      <th>...</th>\n",
       "      <td>...</td>\n",
       "      <td>...</td>\n",
       "    </tr>\n",
       "    <tr>\n",
       "      <th>213743</th>\n",
       "      <td>People is court should decide on euthanasia and living will says SC The government is examining a report by the Law Commission on the subject and may table a Bill in Parliament legalising passive euthanasia</td>\n",
       "      <td>Policy</td>\n",
       "    </tr>\n",
       "    <tr>\n",
       "      <th>213744</th>\n",
       "      <td>Free Speech JNU Vs Kamlesh Tiwari</td>\n",
       "      <td>Removed: Reason Given to OP</td>\n",
       "    </tr>\n",
       "    <tr>\n",
       "      <th>213745</th>\n",
       "      <td>Tifu by sending Kiss and i love you sticker on hike to my best friend is girlfriend</td>\n",
       "      <td>Non-Political</td>\n",
       "    </tr>\n",
       "    <tr>\n",
       "      <th>213746</th>\n",
       "      <td>Bad debt and good times How Vijay Mallya gamed the banking system</td>\n",
       "      <td>Non-Political</td>\n",
       "    </tr>\n",
       "    <tr>\n",
       "      <th>213747</th>\n",
       "      <td>Apparently someone filed a RTI to prove that The Country Without a Post Office is a lie</td>\n",
       "      <td>Non-Political</td>\n",
       "    </tr>\n",
       "  </tbody>\n",
       "</table>\n",
       "<p>213748 rows × 2 columns</p>\n",
       "</div>"
      ],
      "text/plain": [
       "                                                                                                                                                                                                                 title  \\\n",
       "0                                                                                                                                                                                          Got my hands on the new PS5   \n",
       "1                                All these things were making Chanbeli Begum sad Sometimes she was also a green jasmine bull Children used to come to play in the garden A girl sometimes gave water to Chanbeli Begum   \n",
       "2                                                                                                                                                                      Can people not pee LITERALLY in front of others   \n",
       "3                                                                                                                                   I need a huge favour of 149 INR to buy instamojo notes as I can not pay from Nepal   \n",
       "4                                                                                                                        UK Sikhs push back against anti India forces pass resolution thanking PM Modi Hindustan Times   \n",
       "...                                                                                                                                                                                                                ...   \n",
       "213743  People is court should decide on euthanasia and living will says SC The government is examining a report by the Law Commission on the subject and may table a Bill in Parliament legalising passive euthanasia   \n",
       "213744                                                                                                                                                                               Free Speech JNU Vs Kamlesh Tiwari   \n",
       "213745                                                                                                                             Tifu by sending Kiss and i love you sticker on hike to my best friend is girlfriend   \n",
       "213746                                                                                                                                               Bad debt and good times How Vijay Mallya gamed the banking system   \n",
       "213747                                                                                                                         Apparently someone filed a RTI to prove that The Country Without a Post Office is a lie   \n",
       "\n",
       "                              flair  \n",
       "0                     Non Political  \n",
       "1                          AskIndia  \n",
       "2                             Crime  \n",
       "3                          AskIndia  \n",
       "4                          Politics  \n",
       "...                             ...  \n",
       "213743                       Policy  \n",
       "213744  Removed: Reason Given to OP  \n",
       "213745                Non-Political  \n",
       "213746                Non-Political  \n",
       "213747                Non-Political  \n",
       "\n",
       "[213748 rows x 2 columns]"
      ]
     },
     "execution_count": 462,
     "metadata": {},
     "output_type": "execute_result"
    }
   ],
   "source": [
    "df"
   ]
  },
  {
   "cell_type": "code",
   "execution_count": 463,
   "metadata": {},
   "outputs": [
    {
     "data": {
      "text/plain": [
       "Non-Political                      46894\n",
       "Politics                           43100\n",
       "NaN                                32912\n",
       "AskIndia                           26540\n",
       "Policy/Economy                      9432\n",
       "Business/Finance                    7523\n",
       "Science/Technology                  6120\n",
       "Coronavirus                         5914\n",
       "[R]eddiquette                       3511\n",
       "Sports                              2948\n",
       "Policy                              2784\n",
       "Food                                2731\n",
       "Demonetization                      2419\n",
       "Non Political                       1743\n",
       "Culture &amp; Heritage              1629\n",
       "Art/Photo (OC)                      1458\n",
       "Photography                         1441\n",
       "Science &amp; Technology            1362\n",
       "Law &amp; Courts                    1166\n",
       "Scheduled                           1039\n",
       "Entertainment                        865\n",
       "Policy &amp; Economy                 836\n",
       "Foreign Relations                    777\n",
       "History                              708\n",
       "Repost.                              542\n",
       "All CAPS.                            536\n",
       "Not about India.                     506\n",
       "Not Original Title.                  379\n",
       "Business &amp; Finance               320\n",
       "Technology                           302\n",
       "Unverified Content.                  266\n",
       "Low-effort self-post.                256\n",
       "Repost;                              255\n",
       "CAA-NRC                              238\n",
       "Not in English.                      180\n",
       "| Repost |                           167\n",
       "Edited title.                        126\n",
       "Old.                                 125\n",
       "Rant / Vent                          122\n",
       "Verified Content.                    112\n",
       "AMA                                  112\n",
       "| Not Original/Relevant Title |      110\n",
       "Memes/Satire (OC)                    101\n",
       "Removed: Repost                      101\n",
       "Unverified                            95\n",
       "CAA-NRC-NPR                           89\n",
       "Meta.                                 85\n",
       "| Social Media Rules |                79\n",
       "Personal Info.                        78\n",
       "Custom; Informed OP.                  71\n",
       "Name: flair, dtype: int64"
      ]
     },
     "execution_count": 463,
     "metadata": {},
     "output_type": "execute_result"
    }
   ],
   "source": [
    "df['flair'].value_counts(dropna=False).head(50)"
   ]
  },
  {
   "cell_type": "code",
   "execution_count": 472,
   "metadata": {},
   "outputs": [],
   "source": [
    "df['flair'] = df['flair'].replace({\"Non Political\": \"Non-Political\",\n",
    "                                    \"Science &amp; Technology\": \"Science/Technology\", \n",
    "                                    \"Policy &amp; Economy\": \"Policy/Economy\", \n",
    "                                    \"Business &amp; Finance\": \"Business/Finance\", \n",
    "                                    \"Policy\": \"Policy/Economy\", \n",
    "                                    \"Demonetization\": \"Policy/Economy\", \n",
    "                                    \"CAA-NRC\": \"Policy/Economy\",\n",
    "                                    \"CAA-NRC-NPR\" : \"Policy/Economy\",\n",
    "                                    \"Culture &amp; Heritage \": \"Culture/Heritage\",\n",
    "                                    \"Law &amp; Courts\": \"Law/Courts\",\n",
    "                                    \"Art/Photo (OC)\": \"Photography\",\n",
    "                                    \"Foreign Relations\": \"Immigration\",\n",
    "                                    \"Technology\":\"Science/Technology\",\n",
    "                                    \"Policy/Economy\":\"Business/Finance\"})"
   ]
  },
  {
   "cell_type": "code",
   "execution_count": 473,
   "metadata": {},
   "outputs": [
    {
     "data": {
      "text/plain": [
       "Non-Political                                                  48637\n",
       "Politics                                                       43100\n",
       "NaN                                                            32912\n",
       "AskIndia                                                       26540\n",
       "Business/Finance                                               23641\n",
       "Science/Technology                                              7784\n",
       "Coronavirus                                                     5914\n",
       "[R]eddiquette                                                   3511\n",
       "Sports                                                          2948\n",
       "Photography                                                     2899\n",
       "Food                                                            2731\n",
       "Culture/Heritage                                                1629\n",
       "Law/Courts                                                      1166\n",
       "Scheduled                                                       1039\n",
       "Entertainment                                                    865\n",
       "Immigration                                                      799\n",
       "History                                                          708\n",
       "Repost.                                                          542\n",
       "All CAPS.                                                        536\n",
       "Not about India.                                                 506\n",
       "Not Original Title.                                              379\n",
       "Unverified Content.                                              266\n",
       "Low-effort self-post.                                            256\n",
       "Repost;                                                          255\n",
       "Not in English.                                                  180\n",
       "| Repost |                                                       167\n",
       "Edited title.                                                    126\n",
       "Old.                                                             125\n",
       "Rant / Vent                                                      122\n",
       "AMA                                                              112\n",
       "Verified Content.                                                112\n",
       "| Not Original/Relevant Title |                                  110\n",
       "Memes/Satire (OC)                                                101\n",
       "Removed: Repost                                                  101\n",
       "Unverified                                                        95\n",
       "Meta.                                                             85\n",
       "| Social Media Rules |                                            79\n",
       "Personal Info.                                                    78\n",
       "Custom; Informed OP.                                              71\n",
       "TIL Rule Violation.                                               70\n",
       "Not specific to India.                                            68\n",
       "Pol/Rel Image/Tweet/Video Rule.                                   68\n",
       "| Unverified Content / Disreputed Source |                        66\n",
       "Removed: Edited Title                                             65\n",
       "Crime                                                             60\n",
       "Pol/rel image/tweet rule.                                         60\n",
       "Health/Environment                                                59\n",
       "Net Neutrality                                                    55\n",
       "Custom; informed OP.                                              53\n",
       "Removed: Personal Twitter / Image / Unreliable Video Source       52\n",
       "Name: flair, dtype: int64"
      ]
     },
     "execution_count": 473,
     "metadata": {},
     "output_type": "execute_result"
    }
   ],
   "source": [
    "df['flair'].value_counts(dropna=False).head(50)"
   ]
  },
  {
   "cell_type": "code",
   "execution_count": 474,
   "metadata": {},
   "outputs": [
    {
     "name": "stdout",
     "output_type": "stream",
     "text": [
      "<class 'pandas.core.frame.DataFrame'>\n",
      "RangeIndex: 213748 entries, 0 to 213747\n",
      "Data columns (total 2 columns):\n",
      " #   Column  Non-Null Count   Dtype \n",
      "---  ------  --------------   ----- \n",
      " 0   title   213748 non-null  object\n",
      " 1   flair   180836 non-null  object\n",
      "dtypes: object(2)\n",
      "memory usage: 3.3+ MB\n"
     ]
    }
   ],
   "source": [
    "df.info()"
   ]
  },
  {
   "cell_type": "code",
   "execution_count": 475,
   "metadata": {},
   "outputs": [],
   "source": [
    "sr = df['flair'].value_counts()\n",
    "total_flair_list = sr.index.tolist()\n",
    "top_flair_list = total_flair_list[0:10]\n",
    "filtered_bool_series = df[\"flair\"].isin(top_flair_list)\n",
    "final_dataset = df[filtered_bool_series]\n",
    "final_dataset = final_dataset.reset_index(drop=True)"
   ]
  },
  {
   "cell_type": "code",
   "execution_count": 476,
   "metadata": {},
   "outputs": [
    {
     "data": {
      "text/html": [
       "<div>\n",
       "<style scoped>\n",
       "    .dataframe tbody tr th:only-of-type {\n",
       "        vertical-align: middle;\n",
       "    }\n",
       "\n",
       "    .dataframe tbody tr th {\n",
       "        vertical-align: top;\n",
       "    }\n",
       "\n",
       "    .dataframe thead th {\n",
       "        text-align: right;\n",
       "    }\n",
       "</style>\n",
       "<table border=\"1\" class=\"dataframe\">\n",
       "  <thead>\n",
       "    <tr style=\"text-align: right;\">\n",
       "      <th></th>\n",
       "      <th>title</th>\n",
       "      <th>flair</th>\n",
       "    </tr>\n",
       "  </thead>\n",
       "  <tbody>\n",
       "    <tr>\n",
       "      <th>0</th>\n",
       "      <td>Got my hands on the new PS5</td>\n",
       "      <td>Non-Political</td>\n",
       "    </tr>\n",
       "    <tr>\n",
       "      <th>1</th>\n",
       "      <td>All these things were making Chanbeli Begum sad Sometimes she was also a green jasmine bull Children used to come to play in the garden A girl sometimes gave water to Chanbeli Begum</td>\n",
       "      <td>AskIndia</td>\n",
       "    </tr>\n",
       "    <tr>\n",
       "      <th>2</th>\n",
       "      <td>I need a huge favour of 149 INR to buy instamojo notes as I can not pay from Nepal</td>\n",
       "      <td>AskIndia</td>\n",
       "    </tr>\n",
       "    <tr>\n",
       "      <th>3</th>\n",
       "      <td>UK Sikhs push back against anti India forces pass resolution thanking PM Modi Hindustan Times</td>\n",
       "      <td>Politics</td>\n",
       "    </tr>\n",
       "    <tr>\n",
       "      <th>4</th>\n",
       "      <td>How Can I Scrape Data From LinkedIn To An Excel Sheet</td>\n",
       "      <td>Business/Finance</td>\n",
       "    </tr>\n",
       "    <tr>\n",
       "      <th>...</th>\n",
       "      <td>...</td>\n",
       "      <td>...</td>\n",
       "    </tr>\n",
       "    <tr>\n",
       "      <th>167700</th>\n",
       "      <td>What is ailing rural India BASTAR SPECIAL PART 1 2 NP</td>\n",
       "      <td>Non-Political</td>\n",
       "    </tr>\n",
       "    <tr>\n",
       "      <th>167701</th>\n",
       "      <td>People is court should decide on euthanasia and living will says SC The government is examining a report by the Law Commission on the subject and may table a Bill in Parliament legalising passive euthanasia</td>\n",
       "      <td>Business/Finance</td>\n",
       "    </tr>\n",
       "    <tr>\n",
       "      <th>167702</th>\n",
       "      <td>Tifu by sending Kiss and i love you sticker on hike to my best friend is girlfriend</td>\n",
       "      <td>Non-Political</td>\n",
       "    </tr>\n",
       "    <tr>\n",
       "      <th>167703</th>\n",
       "      <td>Bad debt and good times How Vijay Mallya gamed the banking system</td>\n",
       "      <td>Non-Political</td>\n",
       "    </tr>\n",
       "    <tr>\n",
       "      <th>167704</th>\n",
       "      <td>Apparently someone filed a RTI to prove that The Country Without a Post Office is a lie</td>\n",
       "      <td>Non-Political</td>\n",
       "    </tr>\n",
       "  </tbody>\n",
       "</table>\n",
       "<p>167705 rows × 2 columns</p>\n",
       "</div>"
      ],
      "text/plain": [
       "                                                                                                                                                                                                                 title  \\\n",
       "0                                                                                                                                                                                          Got my hands on the new PS5   \n",
       "1                                All these things were making Chanbeli Begum sad Sometimes she was also a green jasmine bull Children used to come to play in the garden A girl sometimes gave water to Chanbeli Begum   \n",
       "2                                                                                                                                   I need a huge favour of 149 INR to buy instamojo notes as I can not pay from Nepal   \n",
       "3                                                                                                                        UK Sikhs push back against anti India forces pass resolution thanking PM Modi Hindustan Times   \n",
       "4                                                                                                                                                                How Can I Scrape Data From LinkedIn To An Excel Sheet   \n",
       "...                                                                                                                                                                                                                ...   \n",
       "167700                                                                                                                                                           What is ailing rural India BASTAR SPECIAL PART 1 2 NP   \n",
       "167701  People is court should decide on euthanasia and living will says SC The government is examining a report by the Law Commission on the subject and may table a Bill in Parliament legalising passive euthanasia   \n",
       "167702                                                                                                                             Tifu by sending Kiss and i love you sticker on hike to my best friend is girlfriend   \n",
       "167703                                                                                                                                               Bad debt and good times How Vijay Mallya gamed the banking system   \n",
       "167704                                                                                                                         Apparently someone filed a RTI to prove that The Country Without a Post Office is a lie   \n",
       "\n",
       "                   flair  \n",
       "0          Non-Political  \n",
       "1               AskIndia  \n",
       "2               AskIndia  \n",
       "3               Politics  \n",
       "4       Business/Finance  \n",
       "...                  ...  \n",
       "167700     Non-Political  \n",
       "167701  Business/Finance  \n",
       "167702     Non-Political  \n",
       "167703     Non-Political  \n",
       "167704     Non-Political  \n",
       "\n",
       "[167705 rows x 2 columns]"
      ]
     },
     "execution_count": 476,
     "metadata": {},
     "output_type": "execute_result"
    }
   ],
   "source": [
    "final_dataset"
   ]
  },
  {
   "cell_type": "code",
   "execution_count": 477,
   "metadata": {},
   "outputs": [
    {
     "name": "stdout",
     "output_type": "stream",
     "text": [
      "<class 'pandas.core.frame.DataFrame'>\n",
      "RangeIndex: 167705 entries, 0 to 167704\n",
      "Data columns (total 2 columns):\n",
      " #   Column  Non-Null Count   Dtype \n",
      "---  ------  --------------   ----- \n",
      " 0   title   167705 non-null  object\n",
      " 1   flair   167705 non-null  object\n",
      "dtypes: object(2)\n",
      "memory usage: 2.6+ MB\n"
     ]
    }
   ],
   "source": [
    "final_dataset.info()"
   ]
  },
  {
   "cell_type": "code",
   "execution_count": 478,
   "metadata": {},
   "outputs": [
    {
     "data": {
      "text/plain": [
       "Non-Political         48637\n",
       "Politics              43100\n",
       "AskIndia              26540\n",
       "Business/Finance      23641\n",
       "Science/Technology     7784\n",
       "Coronavirus            5914\n",
       "[R]eddiquette          3511\n",
       "Sports                 2948\n",
       "Photography            2899\n",
       "Food                   2731\n",
       "Name: flair, dtype: int64"
      ]
     },
     "execution_count": 478,
     "metadata": {},
     "output_type": "execute_result"
    }
   ],
   "source": [
    "final_dataset['flair'].value_counts(dropna=False)"
   ]
  },
  {
   "cell_type": "code",
   "execution_count": 471,
   "metadata": {},
   "outputs": [],
   "source": [
    "final_dataset.to_csv('data/final_dataset.csv')"
   ]
  },
  {
   "cell_type": "code",
   "execution_count": null,
   "metadata": {},
   "outputs": [],
   "source": []
  },
  {
   "cell_type": "code",
   "execution_count": null,
   "metadata": {},
   "outputs": [],
   "source": []
  }
 ],
 "metadata": {
  "interpreter": {
   "hash": "8edf8cbb509fdf3d46e061f30af3d9278aa0b7efb734bc4d8f02fc9816eea4c1"
  },
  "kernelspec": {
   "display_name": "Python 3.8.0 64-bit ('tf2.4': conda)",
   "language": "python",
   "name": "python3"
  },
  "language_info": {
   "codemirror_mode": {
    "name": "ipython",
    "version": 3
   },
   "file_extension": ".py",
   "mimetype": "text/x-python",
   "name": "python",
   "nbconvert_exporter": "python",
   "pygments_lexer": "ipython3",
   "version": "3.8.0"
  },
  "orig_nbformat": 4
 },
 "nbformat": 4,
 "nbformat_minor": 2
}
